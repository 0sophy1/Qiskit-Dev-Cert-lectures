{
 "cells": [
  {
   "cell_type": "markdown",
   "id": "d57d225d",
   "metadata": {},
   "source": [
    "# lecture 0 - 양자컴퓨터를 위한 선형대수와 양자 역학 \n",
    "\n",
    "## 선형대수학\n",
    "\n",
    "### 복소수의 특징\n",
    "\n",
    "복소수는 실수인 $a$와 $b$가 있고 $i^2 = -1$을 만족하는 허수 $i$가 있을 때, $z = a + bi$ 형태로 표현되는 수를 의미합니다. 복소수는 실수처럼, 덧셈, 뺄샘, 곱셈, 나눗셈이 가능합니다.\n",
    "\n",
    "아래의 셀을 실행시켜 아주 간단한 복소수의 덧셈과 곱셈을 해봅시다.\n",
    "\n",
    "\n",
    "Complex, Hermitian, and Unitary Matrices https://www.youtube.com/watch?v=DUuTx2nbizM\n",
    "\n",
    "https://www.youtube.com/watch?v=osoanbLTCMw\n",
    "\n",
    "\n",
    "\n"
   ]
  },
  {
   "cell_type": "code",
   "execution_count": 9,
   "id": "317aa28d",
   "metadata": {},
   "outputs": [
    {
     "name": "stdout",
     "output_type": "stream",
     "text": [
      "a + b= (7+1j)\n",
      "a * b= (16+11j)\n"
     ]
    }
   ],
   "source": [
    "a = 2 + 3j\n",
    "b = 5 - 2j\n",
    "print(\"a + b=\", a+b)\n",
    "print(\"a * b=\", a*b)"
   ]
  },
  {
   "cell_type": "markdown",
   "id": "35e87378",
   "metadata": {},
   "source": [
    "곱셈의 과정을 잠시 자세히 살펴보겠습니다. \n",
    "$$(2 + 3i)\\times(5 - 2i) = (2\\times5 + 2\\times(-2i) + 3i\\times5 + 3i\\times(-2i)) = 10 - 4i + 15i - 6i^2 = 10 - 4i + 15i + 6 = 16 + 11i $$"
   ]
  },
  {
   "cell_type": "markdown",
   "id": "286c19d7",
   "metadata": {},
   "source": [
    "복소수는 켤레복소수(Complex Conjugate)라 부르는 특별한 짝을 정의해 사용하곤 합니다. 복소수 $z = a + bi$의 켤레복소수는 일반적으로 $\\bar z$로 표현하며 그 값은 $\\bar z = a - bi$와 같습니다. 복소수와 켤레복소수가 덧셈과 곱셈에서 갖는 특별한 성질을 다음 셀에서 확인해 봅시다."
   ]
  },
  {
   "cell_type": "code",
   "execution_count": 10,
   "id": "bbca06a2",
   "metadata": {},
   "outputs": [
    {
     "name": "stdout",
     "output_type": "stream",
     "text": [
      "a + a_bar =  (4+0j)\n",
      "a % a_bar =  (13+0j)\n"
     ]
    }
   ],
   "source": [
    "a = 2 + 3j\n",
    "a_bar = 2 - 3j\n",
    "print(\"a + a_bar = \", a + a_bar)\n",
    "print(\"a * a_bar = \", a * a_bar)"
   ]
  },
  {
   "cell_type": "markdown",
   "id": "41c5fce8",
   "metadata": {},
   "source": [
    "복소수와 켤레복소수를 더하거나 곱하면 그 결과는 실수가 됩니다. \n",
    "\n",
    "복소수는 복소수의 **길이**라고도 불리는 절대값(modulus, $|z|$)를 갖습니다. 복소수의 절대값은 좌표평면에서 x축을 실수축으로, y축을 허수축으로 잡았을때 원점에서부터 복소수까지의 **거리**에 해당하는 양(positive)의　실수(real)값 입니다. 아래의 노트북은 $z = 3 + 4i$의 절대값을 좌표평면에 그려본 것입니다. 우리가 잘 알듯이 이 복소수의 절대값은 $5 = \\sqrt{3^2 + 4^2}$입니다.\n",
    "\n",
    "복소수의 절대값을 계산하는데 켤레복소수가 유용하게 쓰이곤 하는데 $|z|^2 = z \\times \\bar z$를 만족하며 아주 간단히 다음과 같이 증명이 가능합니다. $$(a + bi)(a - bi) = a^2 -abi +abi -b^2i^2 = a^2 + b^2$$"
   ]
  },
  {
   "cell_type": "code",
   "execution_count": 29,
   "id": "ce9dc144",
   "metadata": {},
   "outputs": [
    {
     "data": {
      "image/png": "[encoded data removed]",
      "text/plain": [
       "<Figure size 432x288 with 1 Axes>"
      ]
     },
     "metadata": {
      "needs_background": "light"
     },
     "output_type": "display_data"
    }
   ],
   "source": [
    "import matplotlib.pyplot as plt\n",
    "import numpy as np\n",
    "import math\n",
    "\n",
    "z1 = 3 + 4j\n",
    "\n",
    "x_min = 0\n",
    "x_max = 5.0\n",
    "\n",
    "y_min = 0\n",
    "y_max = 5.0\n",
    "\n",
    "def plot_complex_number_geometric_representation(z,x_min,x_max,y_min,y_max):\n",
    "\n",
    "    fig = plt.figure()\n",
    "\n",
    "    ax = plt.gca()\n",
    "\n",
    "    a = [0.0,0.0]\n",
    "    b = [z.real,z.imag]\n",
    "\n",
    "    head_length = 0.2\n",
    "\n",
    "    dx = b[0] - a[0]\n",
    "    dy = b[1] - a[1]\n",
    "\n",
    "    vec_ab = [dx,dy]\n",
    "\n",
    "    vec_ab_magnitude = math.sqrt(dx**2+dy**2)\n",
    "\n",
    "    dx = dx / vec_ab_magnitude\n",
    "    dy = dy / vec_ab_magnitude\n",
    "\n",
    "    vec_ab_magnitude = vec_ab_magnitude - head_length\n",
    "\n",
    "    ax.arrow(a[0], a[1], vec_ab_magnitude*dx, vec_ab_magnitude*dy, head_width=head_length, head_length=head_length, fc='black', ec='black')\n",
    "\n",
    "    plt.xlim(x_min,x_max)\n",
    "    plt.ylim(y_min,y_max)\n",
    "\n",
    "    plt.grid(True,linestyle='-')\n",
    "\n",
    "    plt.show()\n",
    "\n",
    "\n",
    "plot_complex_number_geometric_representation(z1,x_min,x_max,y_min,y_max)"
   ]
  },
  {
   "cell_type": "markdown",
   "id": "00f0c781",
   "metadata": {},
   "source": [
    "위에 간단하게 언급된 복소수의 성질들을 종합하면 다음과 같은 복소수의 일반적인 성질들을 얻을 수 있습니다. 여기에서 $z$와 $w$는 임의의 복소수 입니다.\n",
    "$$ z + w = w + z$$\n",
    "$$ zw = wz$$\n",
    "$$ \\overline{z + w} = \\bar z + \\bar w$$\n",
    "$$ \\overline{zw} = \\bar z \\bar w$$\n",
    "$$ z\\bar z = \\bar z z = |z|^2$$\n",
    "$$ \\bar{\\bar z} = z$$\n",
    "$$ |z| = |\\bar z|$$\n",
    "$$ |zw| = |z||w|$$\n",
    "$$ |z + w| \\leq |z| + |w| （삼각부등식) $$\n",
    "$$ z^{-1} = \\frac{\\bar z}{|z|^2}$$"
   ]
  },
  {
   "cell_type": "markdown",
   "id": "85d89293",
   "metadata": {},
   "source": [
    "### 복소수의 표현 - 오일러의 공식과 극좌표계\n",
    "\n",
    "지금까지 복소수를 $a + bi$의 형태로 표현해 왔지만 복소수를 표현하는 다른 방식도 함께 알아보도록 하겠습니다. 오일러 공식(Euler's formula)은 수학자 레온하르트 오일러의 이름이 붙은 공식으로, 삼각함수와 지수함수에 대한 관계를 나타냅니다. 실수이면서 [라디안](https://ko.wikipedia.org/wiki/%EB%9D%BC%EB%94%94%EC%95%88)인 $\\theta$가 있을때 다음의 공식이 만족되며 이를 오일러의 공식이라 부릅니다.\n",
    "$$e^{i\\theta} = cos\\theta + i sin\\theta$$\n",
    "\n",
    "오일러의 공식을 활용하면 복소수를 극좌표계를 사용해 표현할 수 있으며 다음을 만족합니다.\n",
    "$$z = a + bi = |z|e^{i\\theta} = |z|(cos\\theta + i sin\\theta) = |z|cos\\theta + i|z|sin\\theta$$\n",
    "$$\\therefore a = |z|cos\\theta,  b=|z|sin\\theta, tan\\theta = \\frac{b}{a},  \\theta = \\arctan\\frac{b}{a}$$\n",
    "\n",
    "이때, $\\theta$는 [복소수의 편각(argument of complex number)](https://ko.wikipedia.org/wiki/%ED%8E%B8%EA%B0%81_(%EC%88%98%ED%95%99))이라 불리며 복소수가 실수와 허수를 좌표축으로 갖는 복소수 평면에서 실수축과 복소수 사이의 각도의 크기를 뜻합니다.\n",
    "\n",
    "![출처 위키피디아](https://upload.wikimedia.org/wikipedia/commons/thumb/7/7a/Complex_number_illustration_modarg.svg/440px-Complex_number_illustration_modarg.svg.png)\n",
    "\n",
    "위키피디아에서 가져온 위의 이미지에서 $r = |z|$이며 $\\phi = \\theta$입니다.\n",
    "\n",
    "참고로 복소수의 켤레복소는 극좌표계로 $\\bar z = e^{-i\\theta}$와 같습니다. 복소수의 극좌표계 표현의 일반적인 특성은 다음과 같습니다. $z = |z|e^{i\\theta}$와 $w = |w|e^{i\\phi}$는 모두 복소수입니다.\n",
    "\n",
    "$$zw = |z||w|e^{i\\theta}e^{i\\phi} = |z||w|e^{i(\\theta + \\phi)}$$\n",
    "$$\\frac{1}{e^{i\\theta}} = e^{-i\\theta} = \\overline{e^{i\\theta}}$$\n",
    "$$e^{\\pm2\\pi i} = cos(\\pm2\\pi)+isin(\\pm2\\pi) = 1, \\therefore    ei^{(\\theta \\pm2\\pi)} = e^{i\\theta}e^{\\pm2\\pi i} = e^{i\\theta}$$\n",
    "\n",
    "\n",
    "### 벡터\n",
    "\n",
    "[벡터](https://ko.wikipedia.org/wiki/%EB%B2%A1%ED%84%B0)에 대한 가장 간단한 설명은 **\"벡터는 크기와 방향을 가진 양이다\"** 입니다. 다소 복잡한 설명은 [위키](https://ko.wikipedia.org/wiki/%EB%B2%A1%ED%84%B0)를 참고하세요. \n",
    "\n",
    "일반적으로 벡터는 '행(row)'과 '열(column)'로 표현하며 차원(dimension)을 갖습니다. 예를 들어 봅시다. \n",
    "$$A =\n",
    " \\begin{pmatrix}\n",
    "  1, & 2 \n",
    " \\end{pmatrix}$$\n",
    " \n",
    " $$B =\n",
    " \\begin{pmatrix}\n",
    "  3 \\\\\n",
    "  2\\\\\n",
    "  1\n",
    " \\end{pmatrix}$$\n",
    "\n",
    "A는 2차원의 행벡터이고, B는 3차원의 열벡터입니다. 우리가 벡터라고 부르는 것은 일반적으로 **열벡터**이며 n차원의 벡터$\\vec{v}$는 다음과 같이 표현할 수 있습니다.\n",
    " $$\\vec{v} =\n",
    " \\begin{pmatrix}\n",
    "  v_1 \\\\\n",
    "  v_2 \\\\\n",
    "  \\dots \\\\\n",
    "  v_n\n",
    " \\end{pmatrix}$$\n",
    " \n",
    " 벡터도 숫자와 마찬가지로 덧셈, 뺄셈, 곱셈, 나눗셈이 가능합니다. 여기에서 벡터의 덧셈과 곱셈에 대해 살펴보도록 합시다. 벡터의 합은 다음과 같습니다.\n",
    " $$ \n",
    " \\begin{pmatrix}\n",
    "  a_1 \\\\\n",
    "  a_2\\\\\n",
    "  a_3\n",
    " \\end{pmatrix}+\n",
    "  \\begin{pmatrix}\n",
    "  b_1 \\\\\n",
    "  b_2\\\\\n",
    "  b_3\n",
    " \\end{pmatrix}=\n",
    "  \\begin{pmatrix}\n",
    "  a_1 + b_1 \\\\\n",
    "  a_2 + b_2\\\\\n",
    "  a_3 + b_3\n",
    " \\end{pmatrix}$$\n",
    " \n",
    " 자주 사용하게 될 표현을 짚어보고 다음으로 넘어가도록 하겠습니다. 만약 벡터의 합에서 $j$번째 행의 요소들만을 언급하고 싶을때는 다음과 같이 간결하게 사용합니다. $$(\\vec{v} + \\vec{w})_j = v_j + w_j$$\n",
    "\n",
    "만약 더하고자 하는 두 벡터의 모양과 차원이 다르다면 어떻게 될까요? 원칙적으로 두 벡터의 모양이 다른 경우 벡터의 덧셈을 할 수 없습니다. 하지만 numpy등의 라이브러리등은 자동으로 두 벡터의 차원을 맞추어 덧셈을 합니다. 아래의 셀에서 확인해 봅시다."
   ]
  },
  {
   "cell_type": "code",
   "execution_count": 35,
   "id": "95f91d52",
   "metadata": {},
   "outputs": [
    {
     "data": {
      "text/plain": [
       "array([[ 8,  9, 10],\n",
       "       [11, 12, 13],\n",
       "       [10, 11, 12]])"
      ]
     },
     "execution_count": 35,
     "metadata": {},
     "output_type": "execute_result"
    }
   ],
   "source": [
    "import numpy as np\n",
    "A = np.array([[1,2,3]])\n",
    "B = np.array([[7], [10], [9]])\n",
    "A+B"
   ]
  },
  {
   "cell_type": "markdown",
   "id": "f1b63f60",
   "metadata": {},
   "source": [
    "벡터는 상수 및 다른 벡터와 곱셈도 가능합니다. 벡터와 상수의 곱은 아주 간단합니다.\n",
    " $$ \n",
    "c\\times\n",
    "  \\begin{pmatrix}\n",
    "  a_1 \\\\\n",
    "  a_2\\\\\n",
    "  a_3\n",
    " \\end{pmatrix}=\n",
    "  \\begin{pmatrix}\n",
    "  ca_1 \\\\\n",
    "  ca_2\\\\\n",
    "  ca_3\n",
    " \\end{pmatrix}$$\n",
    " \n",
    "벡터에 양의 상수를 곱하면 벡터가 방향을 유지하며 절대값이 늘어나게 됩니다. 만약 벡터에 음의 상수를 곱한다면 벡터는 방향이 반대로 바뀌고 절대값은 늘어나게 됩니다.\n",
    "\n",
    "### 벡터공간 (Vector Space)\n",
    "벡터 공간 또는 선형 공간(linear space)은 원소를 서로 더하거나 주어진 배수로 늘이거나 줄일 수 있는 공간으로 벡터 공간의 원소를 벡터라고 합니다. 벡터 공간에서 벡터의 선형 합과 스칼라곱 (벡터와 상수의 곱)의 결과 벡터 또한 벡터 공간의 원소가 됩니다. 벡터공간에 대하여 다음의 네 가지가 성립합니다.\n",
    " - 덧셈에 대한 항등원(identity element) 존재 : 벡터공간 $V$에는 특정한 원소 0이 존재하여 모든 $v\\in V$ 에 대하여 $v+0=0+v=v$\n",
    " - 덧셈에 대한 역원(inverse element) 존재 : 벡터공간 $V$의 임의의 원소 $v$에 대하여 $v+u=u+v=0$을 만족하는 $u \\in V$가 존재한다.\n",
    " - 교환법칙(commutativity) 성립 : $\\forall u, v\\in V$에 대하여 $u+v=v+u$가 성립한다.\n",
    " - 결합법칙(Associativity) 성립 : $\\forall u, v, w \\in V$에 대하여 $(u+v)+w=u+(v+w)$가 성립한다.\n",
    " - 분배법칙(Distributivity) 성립: 스칼라 상수 $c$와 $d$, $\\forall u, v \\in V$에 대하여, $c(u + v) = cu + cv$ 및 $(c + d)v = cv + dv$가 성립한다.\n",
    "\n",
    "\n",
    "### 행렬(Matrices)\n",
    "\n",
    "[행렬](https://ko.wikipedia.org/wiki/%ED%96%89%EB%A0%AC)은 숫자등을 직사각형 형태로 배열한 것으로 행과 열을 가집니다.행렬의 차원은 행$m$과 열$n$의 차원을 사용해 $n\\times m$으로 표현합니다. 앞서 살펴본 벡터의 경우는 1차원의 열(column)과 n차원의 행을 지니고 있는 $n \\times 1$차원의 행렬로 볼수 있습니다. \n",
    "\n",
    "행렬도 벡터와 마찬가지로 합과 상수곱이 가능하며 다음과 같습니다.\n",
    "\n",
    "$$\\begin{pmatrix}\n",
    "  a_{11} & a_{12} \\\\\n",
    "  a_{21}, & a_{22} \n",
    " \\end{pmatrix}+\n",
    " \\begin{pmatrix}\n",
    "  b_{11}, & b_{12} \\\\\n",
    "  b_{21}, & b_{22} \n",
    " \\end{pmatrix}=\n",
    " \\begin{pmatrix}\n",
    "  a_{11}+b_{11} & a_{12} + b_{12} \\\\\n",
    "  a_{21} + b_{21}, & a_{22} + b_{22} \n",
    " \\end{pmatrix}$$\n",
    " \n",
    " $$c \\times \n",
    " \\begin{pmatrix}\n",
    "  a_{11} & a_{12} \\\\\n",
    "  a_{21}, & a_{22} \n",
    " \\end{pmatrix}=\n",
    " \\begin{pmatrix}\n",
    "  ca_{11} & ca_{12} \\\\\n",
    "  ca_{21} & ca_{22}\n",
    " \\end{pmatrix}$$\n",
    " \n",
    " 이제 행렬과 벡터들의 곱셈에 대해 알아볼 때가 되었습니다. 두 행렬 $A, B$가 있을 때, $A$의 행의 차원과 $B$의 열의 차원이 같은 경우 $AB$를 계산할 수 있습니다. 예를 들어 $2\\times3$ 행렬 $A$와 $3 \\times 2$　행렬 $B$의 곱셈은 다음과 같으며 곱셈의 결과로 탄생하는 행렬의 차원은 $2 \\times 2$가 됩니다.\n",
    " \n",
    " $$\\begin{pmatrix}\n",
    "  1 & 2 & 3 \\\\\n",
    "  4, & 5 & 6 \n",
    " \\end{pmatrix}\n",
    " \\begin{pmatrix}\n",
    "  1, & 2 \\\\\n",
    "  3, & 4 \\\\\n",
    "  5, & 6\n",
    " \\end{pmatrix}=\n",
    " \\begin{pmatrix}\n",
    "  1*1 + 2*3 + 3*5 & 1*2 + 2*4 + 3*6 \\\\\n",
    "  4*1 + 5*3 + 6*5 & 4*2 + 5*4 + 6*6 \n",
    " \\end{pmatrix}$$\n",
    " \n",
    " 이 곱셈을 행렬의 **행렬곱**이라 부르며 멋진 수식으로 표현하면 다음과 같습니다.\n",
    " \n",
    " 행렬 $A,B$가 각각　$m\\times n$, $n \\times p$의 차원을 가질때 두 행렬의 행렬곱 $C = AB$의 $i$열 $j$행의 성분을 $c_{ij}$라 할때,\n",
    " $$c_{ij} = a_{i1}b_{1j} + a_{i2}b_{2j} + \\dots + a_{in}b_{nj} = \\displaystyle\\sum_{k=1}^{n} a_{ik}b_{kj}$$\n",
    " 가 성립합니다. 벡터의 행렬곱또한 같은 규칙을 따르게 됩니다. 예를 들어 $n \\times 1$차원의 벡터 $v$는 $m \\times n$ 차원의 행렬 $M$이나 $1 \\times n$차원의 행벡터등과 곱셈이 가능합니다. 두 가지 경우를 아래의 셀을 실행해 확인해 봅시다."
   ]
  },
  {
   "cell_type": "code",
   "execution_count": 46,
   "id": "ba573eec",
   "metadata": {},
   "outputs": [
    {
     "name": "stdout",
     "output_type": "stream",
     "text": [
      "AB =  [[ 7 14 21]\n",
      " [10 20 30]\n",
      " [ 9 18 27]]\n",
      "BA =  [[54]]\n",
      "CA =  [[ 54]\n",
      " [158]\n",
      " [236]]\n"
     ]
    },
    {
     "ename": "ValueError",
     "evalue": "matmul: Input operand 1 has a mismatch in its core dimension 0, with gufunc signature (n?,k),(k,m?)->(n?,m?) (size 3 is different from 1)",
     "output_type": "error",
     "traceback": [
      "\u001b[0;31m---------------------------------------------------------------------------\u001b[0m",
      "\u001b[0;31mValueError\u001b[0m                                Traceback (most recent call last)",
      "Input \u001b[0;32mIn [46]\u001b[0m, in \u001b[0;36m<cell line: 8>\u001b[0;34m()\u001b[0m\n\u001b[1;32m      6\u001b[0m \u001b[38;5;28mprint\u001b[39m(\u001b[38;5;124m\"\u001b[39m\u001b[38;5;124mBA = \u001b[39m\u001b[38;5;124m\"\u001b[39m, np\u001b[38;5;241m.\u001b[39mmatmul(B,A))\n\u001b[1;32m      7\u001b[0m \u001b[38;5;28mprint\u001b[39m(\u001b[38;5;124m\"\u001b[39m\u001b[38;5;124mCA = \u001b[39m\u001b[38;5;124m\"\u001b[39m, np\u001b[38;5;241m.\u001b[39mmatmul(C, A))\n\u001b[0;32m----> 8\u001b[0m \u001b[38;5;28mprint\u001b[39m(\u001b[38;5;124m\"\u001b[39m\u001b[38;5;124mAC = \u001b[39m\u001b[38;5;124m\"\u001b[39m, \u001b[43mnp\u001b[49m\u001b[38;5;241;43m.\u001b[39;49m\u001b[43mmatmul\u001b[49m\u001b[43m(\u001b[49m\u001b[43mA\u001b[49m\u001b[43m,\u001b[49m\u001b[43m \u001b[49m\u001b[43mC\u001b[49m\u001b[43m)\u001b[49m)\n",
      "\u001b[0;31mValueError\u001b[0m: matmul: Input operand 1 has a mismatch in its core dimension 0, with gufunc signature (n?,k),(k,m?)->(n?,m?) (size 3 is different from 1)"
     ]
    }
   ],
   "source": [
    "A = np.array([[7], [10], [9]])\n",
    "B = np.array([[1,2,3]])\n",
    "C = np.array([[1, 2, 3], [5, 6, 7], [8,9,10]])\n",
    "\n",
    "print(\"AB = \", np.matmul(A,B))\n",
    "print(\"BA = \", np.matmul(B,A))\n",
    "print(\"CA = \", np.matmul(C, A))\n",
    "print(\"AC = \", np.matmul(A, C))"
   ]
  },
  {
   "cell_type": "markdown",
   "id": "7569f89b",
   "metadata": {},
   "source": [
    "위의 계산에서 볼 수 있듯이 $3 \\times 1$벡터 $A$와 $3\\times 3$행렬 $C$의 곱 $AC$는 에러를 반환합니다. 예제에서 볼수 있듯이 행렬은 벡터와 연산이 가능하며 이런 경우 행렬을 벡터에 작용하는 **함수(function)**　로 볼 수 있습니다.　예를 들어 $2 \\times 1$ 차원의　$\\vec{v}$벡터에 $3 \\times 2$　차원의 $M$행렬을 적용한 결과$M\\vec{v}$는 $3$차원의 새로운 벡터가 되며 이 경우 행렬은 2차원의 벡터 공간의 벡터를 3차원의 벡터 공간으로 변환하는 함수의 역할을 수행한 것이 됩니다. \n",
    "\n",
    "행렬의 함수기능과 관련하여 흥미로운 것 중 하나는 행렬이 이처럼 함수와 같은 기능을 할 때 행렬의 곱이 합성함수(function composition)를 만들어내는 과정과 깊이 연관되어 있는 것입니다. 두 함수 $f, g$가 있을때 두 함수의 합성 $f \\circ g$는 다음과 같습니다. \n",
    "    $$f \\circ g(x) = f(g(x))$$ \n",
    "이때 함수 $f(\\vec{v}) = M\\vec{v}, g(\\vec{v}) = N\\vec{v}$라면\n",
    "    $$f \\circ g(x) = f(g(x)) = f(N\\vec{v}) = MN\\vec{v}$$ \n",
    "    $$\\therefore f \\circ g = MN$$\n",
    "이 됩니다. \n",
    "\n",
    "위의 셀 예제에서 놓치면 안되는 흥미로운 결과 중 하나는 $1 \\times n$차원의 벡터와 $n \\times 1$차원의 벡터를 곱했을때 하나의 상수가 계산의 결과로 나오는 것이며 이것을 벡터의 스칼라곱(scalar product)혹은 점곱(dot product) 또는 내적 (inner product)라 부릅니다. \n",
    "\n",
    "벡터의 내적은 기하학적으로 다음의 관계를 만족합니다. 두 벡터 $u ,v$의 내적의 $u \\cdot v = |u||v|cos\\theta$의 상수 값으로 이 값은 두 벡터의 절대값과 두 벡터가 이루는 각도의 $cos\\theta$를 곱한 값으로 두 벡터 중 하나를 다른 한 벡터에 수직 사영(scalar projection)하여 수직 사영된 길이값과 나머지 벡터의 길이값을 곱하는 것과 같은 의미를 지닙니다. 내적의 결과는 스칼라 상수로, 두 벡터가 이루는 각도의 크기와 두 벡터의 절대값에만 영향을 받습니다.\n",
    "\n",
    "일반적으로 벡터 공간의 벡터는 열벡터를 의미하기 때문에 벡터의 전치행렬(transpose）를 정의한 후 벡터와 벡터의 스칼라 곱을 정의하기도 합니다.\n",
    "\n",
    "벡터 및 행렬의 [전치행렬](https://ko.wikipedia.org/wiki/%EC%A0%84%EC%B9%98%ED%96%89%EB%A0%AC)이란 행렬의 행과 열의 숫자를 바꾸는 것으로  행렬을 주대각선을 기준으로 하여 뒤집어 얻는 것으로 이해할 수 있습니다. \n",
    "\n",
    "예를 들어 벡터 $v$가 \n",
    "$A =\n",
    " \\begin{pmatrix}\n",
    "  1 \\\\ \n",
    "  2 \\\\\n",
    "  3\n",
    " \\end{pmatrix}$이라면 $A$의 전치행렬 $A^T$는 \n",
    " $\\begin{pmatrix}\n",
    "  1 & 2 & 3\n",
    " \\end{pmatrix}$이 됩니다. 전치 행렬은 $(MN)^T = N^T M^T$와 $(M^T)^T = M$을 만족합니다. \n",
    " \n",
    "전치행렬의 정의가 이와 같을 때 벡터공간 $V$의 벡터 $u, v$의 스칼라 곱은 다음과 같이 정의 됩니다.\n",
    "$$a \\cdot b = a^Tb$$\n",
    "\n",
    "행렬의 곱셈과 관련된 중요한 성질 중 하나는 행렬의 곱셈은 교환 법칙이 성립하지 않는 성질(non-commutativity)을 지닌 다는 것입니다. 예를들어 행렬 $M, N$이 있을때 $MN \\neq NM$을 뜻합니다. 이 중요한 성질은 다음의 셀을 실행시켜서 쉽게 확인할 수 있습니다."
   ]
  },
  {
   "cell_type": "code",
   "execution_count": 48,
   "id": "cd6dc5e1",
   "metadata": {},
   "outputs": [
    {
     "name": "stdout",
     "output_type": "stream",
     "text": [
      "AB = \n",
      " [[19 22]\n",
      " [43 50]]\n",
      "BA = \n",
      " [[23 34]\n",
      " [31 46]]\n"
     ]
    }
   ],
   "source": [
    "A = np.array([[1, 2], [3,4]])\n",
    "B = np.array([[5, 6], [7,8]])\n",
    "print(\"AB = \\n\", np.matmul(A,B))\n",
    "print(\"BA = \\n\", np.matmul(B,A))"
   ]
  },
  {
   "cell_type": "markdown",
   "id": "67c2a1c8",
   "metadata": {},
   "source": [
    "행렬 연산의 일반적인 특징은 다음과 같이 정리할 수 있습니다. 적절한 차원의 행렬 $M, N, P$과 임의의 스칼라 상수 $c,d$가 있을 때\n",
    "$$M+N = N +M$$\n",
    "$$(M+N)+P = M+(N +P)$$\n",
    "$$c(M+N) = cM+cN$$\n",
    "$$c+d)M = cM+dM$$\n",
    "$$c(MN) = (cM)N = M(cN) = (MN)c$$\n",
    "$$(MN)P = M(NP)$$\n",
    "$$(M+N)P = MP+NP$$\n",
    "$$M(N +P) = MN +MP$$\n",
    "$$일반적으로, MN \\neq NM$$\n",
    "\n",
    "행렬의 이와 같은 특성에서 얻을 수 있는 중요한 개념 - 선형 함수(linear function) - 에 대해 언급하는 것으로 행렬의 소개를 마치고자 합니다. \n",
    "\n",
    "함수 $f$가 함수의 임의의 입력 $x,y$에 대하여 $f(x + y) = f(x) + f(y)$와 $f(cx) = cf(x)$를 만족할 경우 이 함수가 **선형성(linearity)** 을 띈다고 하며 이때 이 함수를 선형함수라 부릅니다. 앞에서 예로 든 바와 같이 함수가 행렬로 나타낼 수 있는 경우, 이 함수는 행렬의 선형성으로 인해 자연스럽게 선형 함수가 됩니다."
   ]
  },
  {
   "cell_type": "markdown",
   "id": "b89452fa",
   "metadata": {},
   "source": [
    "### 복소수 행렬\n",
    "복소수 행렬은 복소수가 포함된 행렬의 요소를 가진 행렬을 의미합니다. 아주 간단히 예를 들자면\n",
    "$A =\n",
    " \\begin{pmatrix}\n",
    "  2, & 1+i \\\\\n",
    "  -i, & 5+i \n",
    " \\end{pmatrix}$\n",
    "와 같습니다. 복소수 행렬은 실수 행렬과 별도로 정의되며 자주 사용되는 연산 두가지를 가지고 있습니다. 한가지는 1) 켤레 행렬(complex conjugate of matrix)이고 나머지 하나는 2) 켤레 전치 행렬(conjugate transpose matrix)입니다. \n",
    "\n",
    "켤레 행렬은 복소수 행렬의 모든 복소수가 켤레 복소수로 변환된 행렬을 의미 합니다. 예를 들어 바로 위의 행렬 A의 켤레 행렬은\n",
    "$\\bar A =\n",
    " \\begin{pmatrix}\n",
    "  2, & 1-i \\\\\n",
    "  i, & 5-i \n",
    " \\end{pmatrix}$이 됩니다. 복소수 행렬의 켤레 전치 행렬은 켤레 행렬을 전치(transpose）한 것으로 위의 행렬 A의 켤레 전치 행렬은\n",
    " $A^{\\dagger} =\n",
    " \\begin{pmatrix}\n",
    "  2, & -i \\\\\n",
    "  1-i, & 5+i \n",
    " \\end{pmatrix}$이 됩니다.\n",
    " \n",
    " 복소수 행렬의 켤레 행렬과 켤레 전치 행렬은 차원이 적절한 복소수 행렬 $M,N$에 대하여 \n",
    " 다음과 같은 특성을 지닙니다. \n",
    "$$\\overline{MN} = \\bar{M}\\bar{N}$$\n",
    "$$(MN)^{\\dagger} = N^{\\dagger}M^{\\dagger}$$\n",
    "$$\\overline{\\bar M} = M$$\n",
    "$$(M^{\\dagger})^{\\dagger} = M$$\n",
    "\n",
    "복소수 행렬도 실수 행렬과 마찬가지로 내적을 정의할 수 있습니다. 주의할 점은 복소수 벡터 및 행렬의 경우 켤레 전치 행렬이 사용되는 것입니다. $v, u$가 복소수 행렬 (벡터 포함)일 때, 두 행렬의 내적 $v \\cdot u = v^{\\dagger}u$입니다.\n",
    "\n",
    "### 힐버트 공간 (Hilbert space)\n",
    "힐버트 공간은 선형 벡터 공간 중 내적이 정의되는 벡터 공간을 의미합니다. 따라서 실수, 복소수와 무관한 모든 n차원 벡터와 그의 내적이 정의되는 백터 공간은 모두 힐버트 공간입니다. \n",
    "\n",
    "힐버트 공간은 내적이 정의되고 존재하는 공간이기 때문에 벡터간의 내적의 성질을 이용한 몇가지 중요한 개념이 도입됩니다. \n",
    "\n",
    "#### 직교 벡터(Orthogonal vector)\n",
    "힐버트 공간 $H$의 두 벡터 $v, u$의 내적이 0일때, 이 두 벡터가 직교(orthogonal)한다고 정의 합니다. 앞서 설명한 것과 같이 두 벡터의 스칼라 곱은 두 벡터의 절대값과 두 벡터가 이루는 각도（$\\theta$）에만 영향(정확히는 $cos\\theta$)에만 영향을 받기 때문에 내적이 0이라는 것은 두 벡터가 이루는 최소 각도가 $90^{\\circ}$ ($cos90^{\\circ} = 0$)임을 의미합니다.\n",
    "\n",
    "#### 벡터의 노름(Norm)\n",
    "n 차원의 힐버트 공간에 존재하는 벡터 $\\vec{v} = (v_1, v_2, \\dots , v_n)$의 길이 혹은 노름($\\parallel \\vec{v} \\parallel$)은 다음과 같이 내적을 사용해 정의합니다.\n",
    "$$\\parallel \\vec{v} \\parallel = \\sqrt{\\vec{v} \\cdot \\vec{v}} = \\sqrt{\\vec{v}^{\\dagger}\\vec{v}} = \\sqrt{|v_1|^2 + |v_2|^2 + \\dots + |v_n|^2}$$\n",
    "특히 노름이 1인 힐버트 공간의 벡터를 단위벡터(unit vector)라 부릅니다. 크기가 1이 아닌 힐버트 공간의 벡터($\\vec{v}$)의 길이를 1로  변환하는 과정을 정규화(Normalizing)라 하며 $\\frac{\\vec{v}}{\\parallel \\vec{v} \\parallel}$라 정의합니다."
   ]
  },
  {
   "cell_type": "markdown",
   "id": "28b0995d",
   "metadata": {},
   "source": [
    "### 기저(Basis)\n",
    "선형대수학에서, 어떤 벡터 공간의 [기저(basis)](https://ko.wikipedia.org/wiki/%EA%B8%B0%EC%A0%80_(%EC%84%A0%ED%98%95%EB%8C%80%EC%88%98%ED%95%99))는 그 벡터 공간을 선형생성하는 선형독립인 벡터들입니다. 다른 표현으로, 벡터 공간의 임의의 벡터를 선형결합으로서 만들어 낼 수 있는 벡터입니다. 기저를 정확하기 이해하기 위해서 새롭게 등장한 개념 1) 선형 결합과 2) 선형 독립을 먼저 알아보도록 하겠습니다.\n",
    "\n",
    "#### 선형 결합 (linear combination)\n",
    "벡터의 선형 결합은 각 벡터에 임의의 상수를 곱한 결과를 더하여 얻습니다. 예를 들어 벡터 공간의 n개의 벡터 \n",
    "$\\vec{v_1} + \\vec{v_2} + \\dots + \\vec{v_n}$\n",
    "과 임의의 스칼라 상수들 $c_1, c_2, \\dots , c_n$이 있을 때, 이 벡터들의 선형 결합은 다음과 같습니다.\n",
    "$$c_1\\vec{v_1} + c_2\\vec{v_2} + \\dots + c_n\\vec{v_n}$$\n",
    "\n",
    "#### 선형 의존/독립(linear dependent / independent)\n",
    "벡터 공간 $V$에 벡터들의 부분집합 { $\\vec{v}$ } $\\subset V $의 한 벡터 $v_i$가 다른 벡터들의 선형 결합으로 만들어 질 수 있을때, 이 벡터의 집합을 선형 의존이라 한다. 선형 독립은 반대로 부분집합의 벡터들이 서로를 만들어낼 수 없는 경우를 의미한다. 예를 들어 \n",
    " $\\vec{a} = \n",
    " \\begin{pmatrix}\n",
    "  1\\\\\n",
    "  0\\\\\n",
    "  1\\\\ \n",
    " \\end{pmatrix}$, \n",
    "  $\\vec{b} = \n",
    " \\begin{pmatrix}\n",
    "  1\\\\\n",
    "  0\\\\\n",
    "  0\\\\ \n",
    " \\end{pmatrix}$, \n",
    "  $\\vec{c} = \n",
    " \\begin{pmatrix}\n",
    "  4\\\\\n",
    "  0\\\\\n",
    "  1\\\\ \n",
    " \\end{pmatrix}$ 일때, $\\vec{c} = \\vec{a} + 3\\vec{b}$를 만족하므로 벡터의 집합 {$ \\vec{a}, \\vec{b}, \\vec{c} $}는 선형 의존입니다.\n",
    " \n",
    "#### 선형 생성(linear span)\n",
    "n차원의 실수($\\mathbb R^n$）벡터 공간 혹은 n 차원의 복소수 ($\\mathbb C^n$) 벡터 공간의 선형 독립인 벡터의 집합을 벡터공간의 기저라 할때, 기저들은 벡터 공간의 임의의 벡터를 기저들의 선형 결합으로 만들어 질 수 있다, 즉 $$\\vec{w} = c_1\\vec{v1} + \n",
    "\\dots + c_n\\vec{v_n}$$\n",
    "을 만족하는 임의의 스칼라 상수들이 존재한다.\n",
    "\n",
    "#### 정규 직교 기저(Orthonormal basis)\n",
    "힐버트 벡터 공간의 기저가 서로 직교하고, 노름이 1인경우에, 이 기저들을 정규 직교 기저라 부른다. \n",
    "\n",
    "In linear algebra, it refers to a set of n linearly independent generalized eigenvectors of an n×n matrix A {\\displaystyle A} A, if the set is composed entirely of Jordan chains.[1]"
   ]
  },
  {
   "cell_type": "code",
   "execution_count": null,
   "id": "027c2acf",
   "metadata": {},
   "outputs": [],
   "source": []
  }
 ],
 "metadata": {
  "kernelspec": {
   "display_name": "Python 3 (ipykernel)",
   "language": "python",
   "name": "python3"
  },
  "language_info": {
   "codemirror_mode": {
    "name": "ipython",
    "version": 3
   },
   "file_extension": ".py",
   "mimetype": "text/x-python",
   "name": "python",
   "nbconvert_exporter": "python",
   "pygments_lexer": "ipython3",
   "version": "3.9.7"
  }
 },
 "nbformat": 4,
 "nbformat_minor": 5
}
