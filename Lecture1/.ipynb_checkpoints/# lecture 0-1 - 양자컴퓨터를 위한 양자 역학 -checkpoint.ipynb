{
 "cells": [
  {
   "cell_type": "markdown",
   "id": "14922d9a",
   "metadata": {},
   "source": [
    "# lecture 0 - 양자컴퓨터를 위한 선형대수와 양자 역학 \n",
    "\n",
    "## 0-1 양자역학\n",
    "\n",
    "## 양자역학의 수학적 가설(Mathematical postulates of quantum mechanics)\n",
    "\n",
    "양자역학은 자연의 구성 요소인 원자, 분자, 광자 등의 행동에 대한 설명을 말합니다. 양자역학의 수학적 모델링을 완전히 요약한 다섯 개의 \"단순한\" 가정들이 있다는 것이 밝혀졌습니다. 여기서는 단지 그것들을 진술하고 있고, 각각의 단어에 대해 자세히 설명하고 사용된 새로운 용어를 설명하겠습니다. 이러한 공식은 대화하는 사람에 따라 다른 동일한 형식을 취할 수 있지만, QCSYS를 위해 아래 공식으로 작업합니다."
   ]
  }
 ],
 "metadata": {
  "kernelspec": {
   "display_name": "Python 3 (ipykernel)",
   "language": "python",
   "name": "python3"
  },
  "language_info": {
   "codemirror_mode": {
    "name": "ipython",
    "version": 3
   },
   "file_extension": ".py",
   "mimetype": "text/x-python",
   "name": "python",
   "nbconvert_exporter": "python",
   "pygments_lexer": "ipython3",
   "version": "3.9.7"
  }
 },
 "nbformat": 4,
 "nbformat_minor": 5
}
