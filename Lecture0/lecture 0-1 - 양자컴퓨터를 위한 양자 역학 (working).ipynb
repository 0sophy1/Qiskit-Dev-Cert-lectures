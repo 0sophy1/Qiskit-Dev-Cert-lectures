{
 "cells": [
  {
   "cell_type": "markdown",
   "id": "475bc2bb",
   "metadata": {},
   "source": [
    "# lecture 0 - 양자컴퓨터를 위한 선형대수와 양자 역학 \n",
    "\n",
    "## 0-1 양자역학\n",
    "\n",
    "## 양자역학의 수학적 가설(Mathematical postulates of quantum mechanics)\n",
    "\n",
    "양자역학은 자연의 구성 요소인 원자, 분자, 광자 등등을 이해할 수 있는 틀을 제공합니다. 양자역학은 다섯가지의 핵심적인 가설로 정리될 수 있으며 다음과 같습니다.  \n",
    "1. 개별 양자 시스템의 상태(또는 파동 함수)는 별도의 복소수 힐버트 공간의 단위 벡터로 표현됩니다.\n",
    "2. 주어진 상태에서 시스템을 측정할 확률은 측정 가능한 상태들과 시스템의 현재 상태의 내적의 절대값의 제곱으로 주어집니다. 이것을 보른의 법칙이라고 합니다. 측정 직후 파동함수는 그 상태로 붕괴됩니다.\n",
    "3. 양자 연산은 힐베르트 공간에서 슈뢰딩거 방정식의 특징으로 인해 유니터리 연산자로 표현됩니다.\n",
    "4. 양자 시스템간의 합성으로 만들어진 시스템의 힐버트 공간은 개별 힐버트 공간들의 텐서 곱(일명 Kronecker 곱)으로 구할 수 있습니다.\n",
    "5. 물리적으로 관찰 가능한 값은 힐버트 공간에서 에르미트 연산자의 고유값으로 표현됩니다.\n",
    "\n",
    "이런 특징을지닌 양자 시스템을 기술하기 위해 지금부터 사용할 새로운 표현을 배워보도록 합시다.\n",
    "\n",
    "### 브라-켓 표현법(the braket notation)\n",
    "브라켓 표현은 앞서 설명한 선형대수의 벡터 표현 중, 양자 역학을 더 쉽게, 잘 기술할 수 있게 만든 표현법입니다. \n",
    "\n",
    "벡터 $\\vec{v}$를 사용하여 양자 상태를 나타낼 때 \"ket\"으로 알려진 다른 표기법을 사용하여 $|v\\rangle$로 표현합니다. 이것은 양자역학에서 일반적으로 사용되는 표기법으로 벡터의 성질을 바꾸는 것이 아닌 그저 다른, 양자역학을 위해 새롭게 정의한 표현법에 불과합니다. 다시 말해 다음의 두 표기법이 나타내는 벡터는 동일합니다.\n",
    "$$|v\\rangle = \n",
    " \\begin{pmatrix}\n",
    "  v_1\\\\\n",
    "  v_2\\\\ \n",
    " \\end{pmatrix}, \\vec{v} =\n",
    "  \\begin{pmatrix}\n",
    "  v_1\\\\\n",
    "  v_2\\\\ \n",
    " \\end{pmatrix}\n",
    " $$\n",
    " \n",
    " 브라는 켓\"$|v\\rangle$\"의 켤레전치로 다음과 같이 표현합니다.\n",
    " $$\\langle v| = (|v\\rangle)^{\\dagger}$$\n",
    " \n",
    " 두 벡터 $|v\\rangle$와 $|w\\rangle$가 있을 때, 이 두 벡터의 브라켓 \"$\\langle v|w\\rangle$\"은 두 벡터의 내적을 의미합니다.\n",
    " $$\\langle v|w\\rangle =  |v\\rangle \\cdot |w\\rangle$$\n",
    " 브라켓의 켤레전치는 $\\overline{\\langle v|w\\rangle} = \\langle w|v\\rangle$입니다.\n",
    " \n",
    " ### 제 1 가설 - 양자 상태와 큐비트 (Quantum State and Qubit)\n",
    "양자 시스템의 위치, 운동량, 스핀등을 포함한 물리적 특성들은 시스템의 양자 상태라 부를 수 있습니다. \n",
    "\n",
    "물리량을 모델링 할때 물체가 어느 한가지 상태에 확실히(100%의 확률로) 존재한다는 것이 다른 상태에 존재할 가능성이 전혀 없는 것을 의미할 경우, 이 두가지 상태를 배타적이라 표현합니다. 만약 n개의 배타적 상태를 가진 양자 시스템이 주어진다면 이 시스템의 각각의 상태는 n차원 힐버트 공간의 직교 기저의 벡터로 표시될 수 있습니다. 이것이 양자의 물리적 상태가 벡터로 표시될 수 있는 근본적인 이유입니다.\n",
    "\n",
    "#### 큐비트\n",
    "양자 정보에서 우리는 양자 비트 또는 큐비트를 사용합니다. 기존 비트와 마찬가지로 큐비트는 \"0\"과 \"1\"이라는 두 가지 고유한, 배타적 상태를 갖습니다. 그러나 기존 비트와 달리 큐비트는 양자 역학의 법칙에 따라 동작합니다. 큐비트가 0과 1의 두가지 배타적 상태를 갖는 다는 것은 큐비트가 2차원의 상태벡터를 갖는 다는 것을 의미합니다. 큐비트의 $|0\\rangle$과 $|1\\rangle$은 각각\n",
    "$$\\text{ground state} \\leftrightarrow  |0\\rangle =\n",
    "  \\begin{pmatrix}\n",
    "  1\\\\\n",
    "  0\\\\ \n",
    " \\end{pmatrix}, \\text{excited state} \\leftrightarrow |1\\rangle =\n",
    "   \\begin{pmatrix}\n",
    "  0\\\\\n",
    "  1\\\\ \n",
    " \\end{pmatrix}\n",
    "$$\n",
    "로 표현되며 **계산 기저**라 부르며 만약 전자를 큐비트로 사용한다면 각각 바닥상태와 들뜸 상태에 해당하게 됩니다.\n",
    "\n",
    "#### 중첩\n",
    "큐비트의 계산기저들을 사용해 잘 알려진, 재미있는 상태 두가지를 만들어 보도록 하겠습니다.\n",
    "$$|+\\rangle =\n",
    "  \\frac{1}{\\sqrt{2}}\\begin{pmatrix}\n",
    "  1\\\\\n",
    "  1\\\\ \n",
    " \\end{pmatrix} = \\frac{1}{\\sqrt{2}}(|0\\rangle + |1\\rangle), |-\\rangle =\n",
    "\\frac{1}{\\sqrt{2}}\\begin{pmatrix}\n",
    "  1\\\\\n",
    "  -1\\\\ \n",
    " \\end{pmatrix} = \\frac{1}{\\sqrt{2}}(|0\\rangle - |1\\rangle)\n",
    "$$\n",
    "이 두가지 상태는 모두 $|0\\rangle$과 $|1\\rangle$에 존재할 확률이 절반씩 존재합니다. 이 특성을 중첩 (superposition)이라 하며 다음과 같이 수학적으로 정리할 수 있습니다.\n",
    "\n",
    "양자 시스템이 $|0\\rangle$또는 $|1\\rangle$에 존재할 수 있다면 양자역학은 시스템이 이 두 기저의 선형 결합으로 만들어낼수 있는 임의의 상태에 존재할 수 있습니다.\n",
    "$$\\psi = a|0\\rangle + b|1\\rangle =\n",
    "\\begin{pmatrix}\n",
    "  a\\\\\n",
    "  b\\\\ \n",
    " \\end{pmatrix}$$\n",
    "이때 양자상태 $\\psi$는 $|0\\rangle$과 $|1\\rangle$의 중첩상태에 있다고 하며 이때 $a$와 $b$를 각 상태의 확률 진폭(probability amplitude)라 부릅니다.\n"
   ]
  },
  {
   "cell_type": "markdown",
   "id": "329c2004",
   "metadata": {},
   "source": [
    "### 제 2 가설 - 양자 측정\n",
    "\n",
    "#### 보른 규칙(Born’s Rule)\n",
    "양자 상태 $|\\psi\\rangle$가 n개의 정규 직교기저 {$|\\phi_1\\rangle, \\dots,|\\phi_n\\rangle $}를 가지고 있다고 할 때, 양자 상태는 정규 직교 기저에 대해 측정(measure)할 수 있으며 이는 양자시스템이 정규직교기저 상태 중 어느상태에 있는지를 묻는 것으로 이해할 수 있습니다. $P(\\phi_i)$가 시스템이 $|\\phi_i\\rangle$ 상태로 측정될 확률이라 한다면, 이 값은 다음과 같이 결정됩니다.\n",
    "$$P(\\phi_i) = |\\langle\\phi_i|\\psi\\rangle|^2$$\n",
    "측정 후 양자시스템은 정규직교기저 상태 중 하나로 붕괴(collapse)됩니다. \n",
    "\n",
    "#### 양자 측정 (Quantum measurement)\n",
    "양자 측정은 보른 규칙에 의해 양자 상태가 각 기저 상태로 측정될 확률이 결정 된 이후, 실제 측정에 의해 양자상태가 하나의 기저 상태로 붕괴되는 일련의 과정을 의미합니다. $|0\\rangle$과 $|1\\rangle$을 기저로 갖는 임의의 양자상태 $|\\psi\\rangle = a|0\\rangle + b|1\\rangle$가 각각의 기저로 측정될 확률은 \n",
    "$$|0\\rangle \\text{with probability}  |\\langle 0|\\psi\\rangle|^2 = |a|^2$$\n",
    "$$|1\\rangle \\text{with probability}  |\\langle 1|\\psi\\rangle|^2 = |b|^2$$\n",
    "와 같습니다.\n",
    "\n",
    "중첩 원리와 보른의 규칙이 실제로 우리에게 말해주는 것은 양자역학은 본질적으로 Random하다는 것입니다. 알 수 없는 양자 중첩이 있을 때, 어떤 결과를 측정할 것인지 정확하게 예측하는 것은 불가능합니다. 우리는 오직 결과의 확률만 예측할 수 있습니다.\n",
    "\n",
    "지금까지의 양자 측정과 관련된 내용을 조금더 일반적인 내용으로 정리해 보자면 다음과 같습니다.\n",
    "\n",
    "임의의 양자상태 $|\\psi\\rangle$가 n개의 정규직교기저들 {$|\\phi_1\\rangle, \\dots,|\\phi_n\\rangle $}을 갖고 있다면 이 임의의 양자상태는 다음과 같이 표현할 수 있습니다.\n",
    "$$|\\psi\\rangle = c_1|\\phi_1\\rangle + c_2|\\phi_2\\rangle + \\dots + c_n|\\phi_n\\rangle $$\n",
    "이때 이 양자상태가 $|\\phi_i\\rangle$로 측정될 확률은 $|c_i|^2$이며 측정 후 이 양자 상태는 기저중 하나의 상태로 붕괴됩니다.\n",
    "\n",
    "이 임의의 양자상태의 절대값(modulus)는\n",
    "$$|||\\psi\\rangle|| = \\sqrt{|c_1|^2 + |c_2|^2 + \\dots + |c_n|^2}$$ \n",
    "와 같으며 이것은 양자상태가 존재할 수있는 모든 기저 상태의 확률의 합과 같으므로 1이어야 합니다. 따라서 양자상태는 크기가 1인 단위벡터이어야 합니다."
   ]
  },
  {
   "cell_type": "markdown",
   "id": "7ccf667c",
   "metadata": {},
   "source": [
    "### 제 3 가설 - 양자 연산\n",
    "\n",
    "앞서서 우리는 임의의 양자상태의 측정 확률과 보른의 규칙에 대해 알아보았습니다. 그렇다면 임의의 양자상태는 어떻게 만들 수 있을까요? 모든것이 바닥상태, 내지는 $|0\\rangle$으로 초기화된 양자시스템을 우리가 원하는 상태로 만들수 있을까요? 정답은 \"예\"입니다. 우리는 양자 연산(quantum operation)을 사용해 원하는 양자 상태를 만들어 낼 수있습니다.\n",
    "\n",
    "양자 연산은 양자 상태를 다른 양자 상태로 변환하기 때문에, 변환 과정에서 벡터의 노름(norm)이 1로 보존되어야 합니다. 따라서 모든 양자 연산의 수학적 표현은 유니터리 행렬(벡터의 길이(노름)을 보존함)로 나타낼 수 있습니다. 마찬가지로, 모든 유니터리 행렬은 가능한 양자 연산을 나타냅니다.\n",
    "\n",
    "양자컴퓨터에서 자주 사용되는, 꼭 알아야 하는, 양자 연산을 소개합니다.\n",
    "$$\n",
    "I =\n",
    "\\begin{pmatrix}\n",
    "1 & 0\\\\\n",
    "0 & 1\\\\ \n",
    "\\end{pmatrix}, X =\n",
    " \\begin{pmatrix}\n",
    "  0 & 1\\\\\n",
    "  1 & 0\\\\ \n",
    " \\end{pmatrix}, Y=\n",
    "  \\begin{pmatrix}\n",
    "  0 & -i\\\\\n",
    "  i & 0\\\\ \n",
    " \\end{pmatrix}, Z=\n",
    "  \\begin{pmatrix}\n",
    "  1 & 0\\\\\n",
    "  0 & -1\\\\ \n",
    " \\end{pmatrix} \n",
    "$$\n",
    "이 연산들은 파울리 행렬(Pauli matrices)이라 불리며 각각 힐버트 공간에서의 단위행렬, x축 180도 회전, y축 180도 회전, Z축 180도 회전을 나타냅니다. \n",
    "\n",
    "양자컴퓨터에서 자주 사용하는 또다른 연산은 하다마드(Hadamard)　행렬로 다음과 같습니다.\n",
    "$$H=\n",
    " \\begin{pmatrix}\n",
    "  \\frac{1}{\\sqrt{2}} & \\frac{1}{\\sqrt{2}}\\\\\n",
    "  \\frac{1}{\\sqrt{2}} & \\frac{-1}{\\sqrt{2}}\\\\ \n",
    " \\end{pmatrix} =\n",
    " \\frac{1}{\\sqrt{2}}\n",
    " \\begin{pmatrix}\n",
    "1 & 1\\\\\n",
    "1 & -1\\\\ \n",
    "\\end{pmatrix}$$\n",
    "하다마드 행렬은 큐비트의 계산기저$|0\\rangle$과 $|1\\rangle$와 또 다른 기저 $|+\\rangle$과 $|-\\rangle$사이의 변환을 담당하곤 합니다. 다음과 같이 확인해 볼 수 있습니다."
   ]
  },
  {
   "cell_type": "code",
   "execution_count": 12,
   "id": "97e0d31b",
   "metadata": {},
   "outputs": [],
   "source": [
    "import numpy as np\n",
    "from math import sqrt\n",
    "#define 0, 1, +, - state\n",
    "zero = np.array([[1],[0]])\n",
    "one = np.array([[0],[1]])\n",
    "plus = np.array([[1/sqrt(2)],[1/sqrt(2)]])\n",
    "minus = np.array([[1/sqrt(2)],[ -1/sqrt(2)]])\n",
    "\n",
    "#define H operation\n",
    "H = np.array([[1/sqrt(2), 1/sqrt(2)], [1/sqrt(2), -1/sqrt(2)]])"
   ]
  },
  {
   "cell_type": "code",
   "execution_count": 14,
   "id": "7b601465",
   "metadata": {},
   "outputs": [
    {
     "data": {
      "text/plain": [
       "array([[0.70710678],\n",
       "       [0.70710678]])"
      ]
     },
     "execution_count": 14,
     "metadata": {},
     "output_type": "execute_result"
    }
   ],
   "source": [
    "np.matmul(H,zero) #=plus"
   ]
  },
  {
   "cell_type": "code",
   "execution_count": 15,
   "id": "7d067581",
   "metadata": {},
   "outputs": [
    {
     "data": {
      "text/plain": [
       "array([[ 0.70710678],\n",
       "       [-0.70710678]])"
      ]
     },
     "execution_count": 15,
     "metadata": {},
     "output_type": "execute_result"
    }
   ],
   "source": [
    "np.matmul(H, one) #=minus"
   ]
  },
  {
   "cell_type": "code",
   "execution_count": 16,
   "id": "e7c629fd",
   "metadata": {},
   "outputs": [
    {
     "data": {
      "text/plain": [
       "array([[1.],\n",
       "       [0.]])"
      ]
     },
     "execution_count": 16,
     "metadata": {},
     "output_type": "execute_result"
    }
   ],
   "source": [
    "np.matmul(H, plus) #=zero"
   ]
  },
  {
   "cell_type": "code",
   "execution_count": 17,
   "id": "a327e441",
   "metadata": {},
   "outputs": [
    {
     "data": {
      "text/plain": [
       "array([[0.],\n",
       "       [1.]])"
      ]
     },
     "execution_count": 17,
     "metadata": {},
     "output_type": "execute_result"
    }
   ],
   "source": [
    "np.matmul(H, minus) #=one"
   ]
  },
  {
   "cell_type": "markdown",
   "id": "b4cacc60",
   "metadata": {},
   "source": [
    "위의 코드로 확인해 본바와 같이 하다마드 연산은 $|0\\rangle$을 $|+\\rangle$로, $|1\\rangle$을 $|-\\rangle$로, $|+\\rangle$를 $|0\\rangle$으로, $|-\\rangle$를 $|1\\rangle$로 서로 변환합니다.\n",
    "\n",
    "#### 간섭 (interference)\n",
    "이 중 하다마드 연산을 $|+\\rangle$와 $|-\\rangle$에 적용하는 곳에서 양자 역학의 중요한 특성인 파동-입자 이중성의 중요한 예중 하나인 간섭(interference）를 관측할 수 있습니다. $|+\\rangle$에 하다마드를 적용하는 과정을 통해 살펴보도록 하겠습니다.\n",
    "\n",
    "$$H|+\\rangle = \\frac{1}{\\sqrt{2}}H(|0\\rangle + |1\\rangle) = \\frac{1}{\\sqrt{2}}(H|0\\rangle + H|1\\rangle)$$\n",
    "$$= \\frac{1}{\\sqrt{2}}(|+\\rangle + |-\\rangle) = \\frac{1}{2}(|0\\rangle + |1\\rangle + |0\\rangle - |1\\rangle)$$\n",
    "$$=|0\\rangle$$\n",
    "\n",
    "연산의 과정을 살펴 보다보면 $|0\\rangle$은 보강 간섭을 일으켜 크기가 증폭되고, $|1\\rangle$은 상쇄되어 크기가 0이 되는 것을 볼 수 있습니다. 양자 역학적 시스템에서는 이와 같이 측정 확률이 보강, 상쇄를 통해 특정 상태의 측정 확률이 커지거나 작아지는 일이 발생하며 이를 양자 간섭(Quantum interference)라 부릅니다.\n",
    "\n",
    "#### 연쇄적인 양자 연산\n",
    "양자시스템에 여러개의 양자 연산을 이어서 적용할 경우, 그 최종적인 연산자 역시 유니터리 연산자가 됩니다. 적용하는 순서에 따라 연산을 $U_1, U_2, \\dots$라 이름을 붙인다면, 최종 연산자 $U_{tot}$는 다음과 같이 쓸수 있습니다.\n",
    "$$U_{tot} = U_m \\dots U_2U_1$$\n",
    "여기에서 주의할 점은 가장 오른쪽에 있는 연산자가 **먼저** 적용된다는 것입니다. 예를 들어 이 연산자들을 양자상태 $|\\psi\\rangle$에 적용한다면, \n",
    "$$U_{tot}|\\psi\\rangle = U_m \\dots U_2U_1|\\psi\\rangle$$\n",
    "로 표현할 수 있습니다. \n",
    "\n",
    "이 특징은 양자컴퓨터에서 큐비트에 원하는 게이트를 순차적으로 적용할때 꼭 기억해야 하는 특징입니다. 여러분이 양자회로를 작성할때 큐비트에 가장 먼저 적용해야 하는 게이트는 수학적으로 표현할때 가장 오른쪽에 위치해야 합니다."
   ]
  },
  {
   "cell_type": "markdown",
   "id": "0e318a48",
   "metadata": {},
   "source": [
    "### 제 4 가설 - 다중 양자 상태(multiple quantum state)\n",
    "\n",
    "지금까지는 하나의 양자상태만을 갖는 양자 시스템에 대해서 살펴보았습니다. 양자컴퓨터에 비교하자면 큐비트 하나로 이루어진 시스템이었습니다. 하지만 양자 시스템이 여러개의 양자시스탬의 합성으로 이루어지는 경우, 2개 이상의 큐비트를 지닌 양자컴퓨터와 같은 경우, 어떻게 다루어야 할까요. 이와 같은 합성 시스템을 수학적으로 표현하는 방법을 알아보기 전, 합성 시스템의 차원에 대해 살펴봅시다.\n",
    "\n",
    "두개의 큐비트로 이루어진 양자 시스템을 가정해 봅시다. 각각의 큐비트는 2차원의 양자 공간에 존재합니다. 두 개의 큐비트로 이루어진 양자 공간은 4차원의 단일 양자 시스템으로 볼 수있으며 그 근거는 다음과 같습니다. 각각의 큐비트는 배타적인 두 개의 상태($|0\\rangle, |1\\rangle$)를 지니고 있고 각 큐비트는 서로 구분이 가능하기 때문에 전체 시스템은 총 4개(첫번째 큐비트의 상태를 오른쪽에, 두번째 큐비트의 상태를 왼쪽에 남긴다고 할 때, 각각 $|00\\rangle$, $|01\\rangle$, $|10\\rangle$, $|11\\rangle$)의 배타적인 상태를 지닌 단일 시스템으로 해석 가능합니다. "
   ]
  },
  {
   "cell_type": "code",
   "execution_count": null,
   "id": "03b7c84c",
   "metadata": {},
   "outputs": [],
   "source": []
  }
 ],
 "metadata": {
  "kernelspec": {
   "display_name": "Python 3 (ipykernel)",
   "language": "python",
   "name": "python3"
  },
  "language_info": {
   "codemirror_mode": {
    "name": "ipython",
    "version": 3
   },
   "file_extension": ".py",
   "mimetype": "text/x-python",
   "name": "python",
   "nbconvert_exporter": "python",
   "pygments_lexer": "ipython3",
   "version": "3.9.7"
  }
 },
 "nbformat": 4,
 "nbformat_minor": 5
}
